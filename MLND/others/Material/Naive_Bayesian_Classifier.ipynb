{
 "cells": [
  {
   "cell_type": "markdown",
   "metadata": {},
   "source": [
    "### Naive Bayes Classifier\n",
    "Naive Bayes is a classification algorithm and is extremely fast. It uses Bayes theory of probability.\n",
    "It is called ‘naive’ because the algorithm assumes that all attributes are independent of each other"
   ]
  },
  {
   "cell_type": "code",
   "execution_count": 1,
   "metadata": {},
   "outputs": [],
   "source": [
    "import numpy as np\n",
    "import pandas as pd\n",
    "#from sklearn.naive_bayes import GaussianNB\n",
    "from sklearn.naive_bayes import MultinomialNB\n",
    "from sklearn.preprocessing import LabelEncoder\n",
    "from sklearn.model_selection import train_test_split\n",
    "from sklearn.metrics import accuracy_score\n"
   ]
  },
  {
   "cell_type": "code",
   "execution_count": 2,
   "metadata": {},
   "outputs": [],
   "source": [
    "play_tennis = pd.read_csv(\"D://Workhop_images//Tennis.csv\")\n"
   ]
  },
  {
   "cell_type": "code",
   "execution_count": 3,
   "metadata": {},
   "outputs": [
    {
     "name": "stdout",
     "output_type": "stream",
     "text": [
      "     outlook  temp humidity  windy play\n",
      "0      sunny   hot     high  False   no\n",
      "1      sunny   hot     high   True   no\n",
      "2   overcast   hot     high  False  yes\n",
      "3      rainy  mild     high  False  yes\n",
      "4      rainy  cool   normal  False  yes\n",
      "5      rainy  cool   normal   True   no\n",
      "6   overcast  cool   normal   True  yes\n",
      "7      sunny  mild     high  False   no\n",
      "8      sunny  cool   normal  False  yes\n",
      "9      rainy  mild   normal  False  yes\n",
      "10     sunny  mild   normal   True  yes\n",
      "11  overcast  mild     high   True  yes\n",
      "12  overcast   hot   normal  False  yes\n",
      "13     rainy  mild     high   True   no\n"
     ]
    }
   ],
   "source": [
    "print(play_tennis)\n"
   ]
  },
  {
   "cell_type": "code",
   "execution_count": 4,
   "metadata": {},
   "outputs": [],
   "source": [
    "number = LabelEncoder()\n",
    "play_tennis['Outlook'] = number.fit_transform(play_tennis['outlook'])\n",
    "play_tennis['Temperature'] = number.fit_transform(play_tennis['temp'])\n",
    "play_tennis['Humidity'] = number.fit_transform(play_tennis['humidity'])\n",
    "play_tennis['Wind'] = number.fit_transform(play_tennis['windy'])\n",
    "play_tennis['Play_Tennis'] = number.fit_transform(play_tennis['play'])"
   ]
  },
  {
   "cell_type": "code",
   "execution_count": 5,
   "metadata": {},
   "outputs": [
    {
     "name": "stdout",
     "output_type": "stream",
     "text": [
      "     outlook  temp humidity  windy play  Outlook  Temperature  Humidity  Wind  \\\n",
      "0      sunny   hot     high  False   no        2            1         0     0   \n",
      "1      sunny   hot     high   True   no        2            1         0     1   \n",
      "2   overcast   hot     high  False  yes        0            1         0     0   \n",
      "3      rainy  mild     high  False  yes        1            2         0     0   \n",
      "4      rainy  cool   normal  False  yes        1            0         1     0   \n",
      "5      rainy  cool   normal   True   no        1            0         1     1   \n",
      "6   overcast  cool   normal   True  yes        0            0         1     1   \n",
      "7      sunny  mild     high  False   no        2            2         0     0   \n",
      "8      sunny  cool   normal  False  yes        2            0         1     0   \n",
      "9      rainy  mild   normal  False  yes        1            2         1     0   \n",
      "10     sunny  mild   normal   True  yes        2            2         1     1   \n",
      "11  overcast  mild     high   True  yes        0            2         0     1   \n",
      "12  overcast   hot   normal  False  yes        0            1         1     0   \n",
      "13     rainy  mild     high   True   no        1            2         0     1   \n",
      "\n",
      "    Play_Tennis  \n",
      "0             0  \n",
      "1             0  \n",
      "2             1  \n",
      "3             1  \n",
      "4             1  \n",
      "5             0  \n",
      "6             1  \n",
      "7             0  \n",
      "8             1  \n",
      "9             1  \n",
      "10            1  \n",
      "11            1  \n",
      "12            1  \n",
      "13            0  \n"
     ]
    }
   ],
   "source": [
    "print(play_tennis)"
   ]
  },
  {
   "cell_type": "code",
   "execution_count": 7,
   "metadata": {},
   "outputs": [],
   "source": [
    "features = [\"Outlook\", \"Temperature\", \"Humidity\", \"Wind\"]\n",
    "target = \"Play_Tennis\""
   ]
  },
  {
   "cell_type": "code",
   "execution_count": 8,
   "metadata": {},
   "outputs": [],
   "source": [
    "features_train, features_test, target_train, target_test = train_test_split(play_tennis[features],\n",
    "play_tennis[target],\n",
    "test_size = 0.33,\n",
    "random_state = 54)"
   ]
  },
  {
   "cell_type": "code",
   "execution_count": 9,
   "metadata": {},
   "outputs": [
    {
     "data": {
      "text/plain": [
       "MultinomialNB(alpha=1.0, class_prior=None, fit_prior=True)"
      ]
     },
     "execution_count": 9,
     "metadata": {},
     "output_type": "execute_result"
    }
   ],
   "source": [
    "# multinomial Naive Bayes classifier is suitable for classification with discrete features\n",
    "model = MultinomialNB()\n",
    "model.fit(features_train, target_train)\n"
   ]
  },
  {
   "cell_type": "code",
   "execution_count": 10,
   "metadata": {},
   "outputs": [
    {
     "name": "stdout",
     "output_type": "stream",
     "text": [
      "0.6\n"
     ]
    }
   ],
   "source": [
    "pred = model.predict(features_test)\n",
    "accuracy = accuracy_score(target_test, pred)\n",
    "print(accuracy)"
   ]
  },
  {
   "cell_type": "code",
   "execution_count": 11,
   "metadata": {},
   "outputs": [
    {
     "name": "stdout",
     "output_type": "stream",
     "text": [
      "[1]\n"
     ]
    }
   ],
   "source": [
    "print(model.predict([[1,2,0,1]]))\n"
   ]
  },
  {
   "cell_type": "code",
   "execution_count": null,
   "metadata": {},
   "outputs": [],
   "source": []
  }
 ],
 "metadata": {
  "kernelspec": {
   "display_name": "Python 3",
   "language": "python",
   "name": "python3"
  },
  "language_info": {
   "codemirror_mode": {
    "name": "ipython",
    "version": 3
   },
   "file_extension": ".py",
   "mimetype": "text/x-python",
   "name": "python",
   "nbconvert_exporter": "python",
   "pygments_lexer": "ipython3",
   "version": "3.6.5"
  }
 },
 "nbformat": 4,
 "nbformat_minor": 2
}
