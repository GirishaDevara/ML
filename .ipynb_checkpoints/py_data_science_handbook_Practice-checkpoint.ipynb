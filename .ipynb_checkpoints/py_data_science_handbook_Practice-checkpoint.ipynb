{
 "cells": [
  {
   "cell_type": "markdown",
   "metadata": {},
   "source": []
  },
  {
   "cell_type": "code",
   "execution_count": 1,
   "metadata": {},
   "outputs": [
    {
     "name": "stderr",
     "output_type": "stream",
     "text": [
      "'ls' is not recognized as an internal or external command,\n",
      "operable program or batch file.\n"
     ]
    }
   ],
   "source": [
    "!ls"
   ]
  },
  {
   "cell_type": "code",
   "execution_count": 2,
   "metadata": {},
   "outputs": [
    {
     "name": "stdout",
     "output_type": "stream",
     "text": [
      " Volume in drive C has no label.\n",
      " Volume Serial Number is 8A01-9EFB\n",
      "\n",
      " Directory of C:\\Users\\divya\\Desktop\\ML\n",
      "\n",
      "09/24/2019  10:07 PM    <DIR>          .\n",
      "09/24/2019  10:07 PM    <DIR>          ..\n",
      "09/24/2019  10:06 PM    <DIR>          .ipynb_checkpoints\n",
      "09/23/2019  11:41 PM    <DIR>          apds\n",
      "09/23/2019  09:22 PM           108,480 ML_sample.ipynb\n",
      "09/19/2019  10:43 AM    <DIR>          MLND\n",
      "09/18/2019  12:42 PM             8,529 Practice.ipynb\n",
      "09/24/2019  10:07 PM               883 py_data_science_handbook_Practice.ipynb\n",
      "09/23/2019  09:13 PM        22,321,280 Python Data Science Handbook.pdf\n",
      "09/23/2019  09:14 PM            61,194 train.csv\n",
      "               5 File(s)     22,500,366 bytes\n",
      "               5 Dir(s)  23,453,642,752 bytes free\n"
     ]
    }
   ],
   "source": [
    "ls"
   ]
  },
  {
   "cell_type": "code",
   "execution_count": 3,
   "metadata": {},
   "outputs": [
    {
     "data": {
      "text/plain": [
       "'C:\\\\Users\\\\divya\\\\Desktop\\\\ML'"
      ]
     },
     "execution_count": 3,
     "metadata": {},
     "output_type": "execute_result"
    }
   ],
   "source": [
    "pwd"
   ]
  },
  {
   "cell_type": "code",
   "execution_count": 4,
   "metadata": {},
   "outputs": [
    {
     "name": "stderr",
     "output_type": "stream",
     "text": [
      "'pwd' is not recognized as an internal or external command,\n",
      "operable program or batch file.\n"
     ]
    }
   ],
   "source": [
    "!pwd"
   ]
  },
  {
   "cell_type": "code",
   "execution_count": null,
   "metadata": {},
   "outputs": [],
   "source": []
  }
 ],
 "metadata": {
  "kernelspec": {
   "display_name": "Python 3",
   "language": "python",
   "name": "python3"
  },
  "language_info": {
   "codemirror_mode": {
    "name": "ipython",
    "version": 3
   },
   "file_extension": ".py",
   "mimetype": "text/x-python",
   "name": "python",
   "nbconvert_exporter": "python",
   "pygments_lexer": "ipython3",
   "version": "3.7.3"
  }
 },
 "nbformat": 4,
 "nbformat_minor": 2
}
